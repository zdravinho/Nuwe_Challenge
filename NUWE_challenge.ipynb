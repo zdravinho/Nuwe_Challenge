{
 "cells": [
  {
   "cell_type": "code",
   "execution_count": 62,
   "id": "d74a4e01",
   "metadata": {},
   "outputs": [],
   "source": [
    "import pandas as pd\n",
    "import numpy as np\n",
    "import json\n",
    "\n",
    "# Load train_titles.csv and test_titles.csv\n",
    "train_titles = pd.read_csv('train_titles.csv')\n",
    "test_titles = pd.read_csv('test_titles.csv')\n",
    "\n",
    "\n"
   ]
  },
  {
   "cell_type": "code",
   "execution_count": 41,
   "id": "2ff8914f",
   "metadata": {},
   "outputs": [
    {
     "name": "stdout",
     "output_type": "stream",
     "text": [
      "train_idx                   0\n",
      "id                          0\n",
      "title                       0\n",
      "type                        0\n",
      "description                33\n",
      "release_year                0\n",
      "age_certification        7899\n",
      "runtime                     0\n",
      "genres                      0\n",
      "production_countries        0\n",
      "seasons                 12123\n",
      "streaming                   0\n",
      "imdb_votes                  0\n",
      "imdb_score                  0\n",
      "target                      0\n",
      "dtype: int64\n"
     ]
    }
   ],
   "source": [
    "# Check for missing data in each dataset\n",
    "print(train_titles.isnull().sum())\n",
    "\n",
    "\n",
    "# If there are missing values, we can choose to drop or impute them based on the column and data characteristics.\n",
    "# For example, to drop rows with missing values:\n",
    "train_titles.dropna(inplace=True)\n",
    "\n"
   ]
  },
  {
   "cell_type": "code",
   "execution_count": 42,
   "id": "e221be16",
   "metadata": {},
   "outputs": [],
   "source": [
    "# Handling missing values in 'description'\n",
    "train_titles.dropna(subset=['description'], inplace=True)\n",
    "\n",
    "# Handling missing values in 'age_certification'\n",
    "train_titles['age_certification'].fillna(train_titles['age_certification'].mode()[0], inplace=True)\n",
    "\n",
    "# Handling missing values in 'seasons'\n",
    "train_titles['seasons'].fillna(0, inplace=True)\n",
    "\n",
    "\n"
   ]
  },
  {
   "cell_type": "markdown",
   "id": "f3b5761e",
   "metadata": {},
   "source": [
    "# Feature Selection: We may choose to select relevant features from this dataset and the 'train_credits' dataset if needed."
   ]
  },
  {
   "cell_type": "code",
   "execution_count": 43,
   "id": "9c70b422",
   "metadata": {},
   "outputs": [
    {
     "name": "stdout",
     "output_type": "stream",
     "text": [
      "        Feature  Importance\n",
      "2    imdb_votes    0.535368\n",
      "1       runtime    0.285583\n",
      "0  release_year    0.179050\n"
     ]
    }
   ],
   "source": [
    "import pandas as pd\n",
    "from sklearn.ensemble import RandomForestClassifier\n",
    "\n",
    "# Select the feature columns (excluding the target variable 'target')\n",
    "feature_columns = ['release_year', 'runtime', 'imdb_votes']\n",
    "\n",
    "\n",
    "X_train = train_titles[feature_columns]\n",
    "y_train = train_titles['target']\n",
    "\n",
    "# Train a Random Forest classifier\n",
    "rf_model = RandomForestClassifier()\n",
    "rf_model.fit(X_train, y_train)\n",
    "\n",
    "# Get feature importances\n",
    "feature_importances = rf_model.feature_importances_\n",
    "\n",
    "# Create a DataFrame to visualize feature importances\n",
    "feature_importance_df = pd.DataFrame({'Feature': X_train.columns, 'Importance': feature_importances})\n",
    "feature_importance_df.sort_values(by='Importance', ascending=False, inplace=True)\n",
    "\n",
    "print(feature_importance_df)\n",
    "\n",
    "# Select the top N features (e.g., N=3)\n",
    "top_n_features = 3\n",
    "selected_features = feature_importance_df['Feature'][:top_n_features].tolist()\n",
    "\n",
    "# Use the selected features for training the model\n",
    "X_train_selected = X_train[selected_features]\n"
   ]
  },
  {
   "cell_type": "markdown",
   "id": "ef443d23",
   "metadata": {},
   "source": [
    "# Model selection"
   ]
  },
  {
   "cell_type": "code",
   "execution_count": 44,
   "id": "c54d0165",
   "metadata": {},
   "outputs": [
    {
     "name": "stderr",
     "output_type": "stream",
     "text": [
      "C:\\Users\\zilie\\anaconda3\\lib\\site-packages\\sklearn\\model_selection\\_split.py:676: UserWarning: The least populated class in y has only 3 members, which is less than n_splits=5.\n",
      "  warnings.warn(\n",
      "C:\\Users\\zilie\\anaconda3\\lib\\site-packages\\sklearn\\linear_model\\_logistic.py:814: ConvergenceWarning: lbfgs failed to converge (status=1):\n",
      "STOP: TOTAL NO. of ITERATIONS REACHED LIMIT.\n",
      "\n",
      "Increase the number of iterations (max_iter) or scale the data as shown in:\n",
      "    https://scikit-learn.org/stable/modules/preprocessing.html\n",
      "Please also refer to the documentation for alternative solver options:\n",
      "    https://scikit-learn.org/stable/modules/linear_model.html#logistic-regression\n",
      "  n_iter_i = _check_optimize_result(\n",
      "C:\\Users\\zilie\\anaconda3\\lib\\site-packages\\sklearn\\linear_model\\_logistic.py:814: ConvergenceWarning: lbfgs failed to converge (status=1):\n",
      "STOP: TOTAL NO. of ITERATIONS REACHED LIMIT.\n",
      "\n",
      "Increase the number of iterations (max_iter) or scale the data as shown in:\n",
      "    https://scikit-learn.org/stable/modules/preprocessing.html\n",
      "Please also refer to the documentation for alternative solver options:\n",
      "    https://scikit-learn.org/stable/modules/linear_model.html#logistic-regression\n",
      "  n_iter_i = _check_optimize_result(\n",
      "C:\\Users\\zilie\\anaconda3\\lib\\site-packages\\sklearn\\linear_model\\_logistic.py:814: ConvergenceWarning: lbfgs failed to converge (status=1):\n",
      "STOP: TOTAL NO. of ITERATIONS REACHED LIMIT.\n",
      "\n",
      "Increase the number of iterations (max_iter) or scale the data as shown in:\n",
      "    https://scikit-learn.org/stable/modules/preprocessing.html\n",
      "Please also refer to the documentation for alternative solver options:\n",
      "    https://scikit-learn.org/stable/modules/linear_model.html#logistic-regression\n",
      "  n_iter_i = _check_optimize_result(\n",
      "C:\\Users\\zilie\\anaconda3\\lib\\site-packages\\sklearn\\linear_model\\_logistic.py:814: ConvergenceWarning: lbfgs failed to converge (status=1):\n",
      "STOP: TOTAL NO. of ITERATIONS REACHED LIMIT.\n",
      "\n",
      "Increase the number of iterations (max_iter) or scale the data as shown in:\n",
      "    https://scikit-learn.org/stable/modules/preprocessing.html\n",
      "Please also refer to the documentation for alternative solver options:\n",
      "    https://scikit-learn.org/stable/modules/linear_model.html#logistic-regression\n",
      "  n_iter_i = _check_optimize_result(\n",
      "C:\\Users\\zilie\\anaconda3\\lib\\site-packages\\sklearn\\linear_model\\_logistic.py:814: ConvergenceWarning: lbfgs failed to converge (status=1):\n",
      "STOP: TOTAL NO. of ITERATIONS REACHED LIMIT.\n",
      "\n",
      "Increase the number of iterations (max_iter) or scale the data as shown in:\n",
      "    https://scikit-learn.org/stable/modules/preprocessing.html\n",
      "Please also refer to the documentation for alternative solver options:\n",
      "    https://scikit-learn.org/stable/modules/linear_model.html#logistic-regression\n",
      "  n_iter_i = _check_optimize_result(\n",
      "C:\\Users\\zilie\\anaconda3\\lib\\site-packages\\sklearn\\model_selection\\_split.py:676: UserWarning: The least populated class in y has only 3 members, which is less than n_splits=5.\n",
      "  warnings.warn(\n",
      "C:\\Users\\zilie\\anaconda3\\lib\\site-packages\\sklearn\\model_selection\\_split.py:676: UserWarning: The least populated class in y has only 3 members, which is less than n_splits=5.\n",
      "  warnings.warn(\n"
     ]
    },
    {
     "name": "stdout",
     "output_type": "stream",
     "text": [
      "Logistic Regression Mean F1 Score: 0.2730\n",
      "Decision Tree Mean F1 Score: 0.3749\n",
      "Random Forest Mean F1 Score: 0.4270\n"
     ]
    },
    {
     "name": "stderr",
     "output_type": "stream",
     "text": [
      "C:\\Users\\zilie\\anaconda3\\lib\\site-packages\\sklearn\\model_selection\\_split.py:676: UserWarning: The least populated class in y has only 3 members, which is less than n_splits=5.\n",
      "  warnings.warn(\n"
     ]
    },
    {
     "name": "stdout",
     "output_type": "stream",
     "text": [
      "XGBoost Mean F1 Score: 0.4152\n"
     ]
    },
    {
     "name": "stderr",
     "output_type": "stream",
     "text": [
      "C:\\Users\\zilie\\anaconda3\\lib\\site-packages\\sklearn\\model_selection\\_split.py:676: UserWarning: The least populated class in y has only 3 members, which is less than n_splits=5.\n",
      "  warnings.warn(\n"
     ]
    },
    {
     "name": "stdout",
     "output_type": "stream",
     "text": [
      "SVM Mean F1 Score: 0.2828\n",
      "KNN Mean F1 Score: 0.3506\n"
     ]
    },
    {
     "name": "stderr",
     "output_type": "stream",
     "text": [
      "C:\\Users\\zilie\\anaconda3\\lib\\site-packages\\sklearn\\model_selection\\_split.py:676: UserWarning: The least populated class in y has only 3 members, which is less than n_splits=5.\n",
      "  warnings.warn(\n",
      "C:\\Users\\zilie\\anaconda3\\lib\\site-packages\\sklearn\\neighbors\\_classification.py:228: FutureWarning: Unlike other reduction functions (e.g. `skew`, `kurtosis`), the default behavior of `mode` typically preserves the axis it acts along. In SciPy 1.11.0, this behavior will change: the default value of `keepdims` will become False, the `axis` over which the statistic is taken will be eliminated, and the value None will no longer be accepted. Set `keepdims` to True or False to avoid this warning.\n",
      "  mode, _ = stats.mode(_y[neigh_ind, k], axis=1)\n",
      "C:\\Users\\zilie\\anaconda3\\lib\\site-packages\\sklearn\\neighbors\\_classification.py:228: FutureWarning: Unlike other reduction functions (e.g. `skew`, `kurtosis`), the default behavior of `mode` typically preserves the axis it acts along. In SciPy 1.11.0, this behavior will change: the default value of `keepdims` will become False, the `axis` over which the statistic is taken will be eliminated, and the value None will no longer be accepted. Set `keepdims` to True or False to avoid this warning.\n",
      "  mode, _ = stats.mode(_y[neigh_ind, k], axis=1)\n",
      "C:\\Users\\zilie\\anaconda3\\lib\\site-packages\\sklearn\\neighbors\\_classification.py:228: FutureWarning: Unlike other reduction functions (e.g. `skew`, `kurtosis`), the default behavior of `mode` typically preserves the axis it acts along. In SciPy 1.11.0, this behavior will change: the default value of `keepdims` will become False, the `axis` over which the statistic is taken will be eliminated, and the value None will no longer be accepted. Set `keepdims` to True or False to avoid this warning.\n",
      "  mode, _ = stats.mode(_y[neigh_ind, k], axis=1)\n",
      "C:\\Users\\zilie\\anaconda3\\lib\\site-packages\\sklearn\\neighbors\\_classification.py:228: FutureWarning: Unlike other reduction functions (e.g. `skew`, `kurtosis`), the default behavior of `mode` typically preserves the axis it acts along. In SciPy 1.11.0, this behavior will change: the default value of `keepdims` will become False, the `axis` over which the statistic is taken will be eliminated, and the value None will no longer be accepted. Set `keepdims` to True or False to avoid this warning.\n",
      "  mode, _ = stats.mode(_y[neigh_ind, k], axis=1)\n",
      "C:\\Users\\zilie\\anaconda3\\lib\\site-packages\\sklearn\\neighbors\\_classification.py:228: FutureWarning: Unlike other reduction functions (e.g. `skew`, `kurtosis`), the default behavior of `mode` typically preserves the axis it acts along. In SciPy 1.11.0, this behavior will change: the default value of `keepdims` will become False, the `axis` over which the statistic is taken will be eliminated, and the value None will no longer be accepted. Set `keepdims` to True or False to avoid this warning.\n",
      "  mode, _ = stats.mode(_y[neigh_ind, k], axis=1)\n",
      "C:\\Users\\zilie\\anaconda3\\lib\\site-packages\\sklearn\\model_selection\\_split.py:676: UserWarning: The least populated class in y has only 3 members, which is less than n_splits=5.\n",
      "  warnings.warn(\n"
     ]
    },
    {
     "name": "stdout",
     "output_type": "stream",
     "text": [
      "Neural Networks Mean F1 Score: 0.2555\n"
     ]
    }
   ],
   "source": [
    "from sklearn.model_selection import cross_val_score\n",
    "from sklearn.metrics import make_scorer, f1_score\n",
    "from sklearn.linear_model import LogisticRegression\n",
    "from sklearn.tree import DecisionTreeClassifier\n",
    "from sklearn.ensemble import RandomForestClassifier\n",
    "from xgboost import XGBClassifier\n",
    "from sklearn.svm import SVC\n",
    "from sklearn.neighbors import KNeighborsClassifier\n",
    "from sklearn.neural_network import MLPClassifier\n",
    "\n",
    "\n",
    "X_train_selected = train_titles[['imdb_votes', 'runtime', 'release_year']]\n",
    "y_train = train_titles['target']\n",
    "\n",
    "# Initialize models\n",
    "models = {\n",
    "    'Logistic Regression': LogisticRegression(),\n",
    "    'Decision Tree': DecisionTreeClassifier(),\n",
    "    'Random Forest': RandomForestClassifier(),\n",
    "    'XGBoost': XGBClassifier(),\n",
    "    'SVM': SVC(),\n",
    "    'KNN': KNeighborsClassifier(),\n",
    "    'Neural Networks': MLPClassifier()\n",
    "}\n",
    "\n",
    "# Initialize cross-validation\n",
    "cv = 5  # Number of cross-validation folds\n",
    "\n",
    "# Perform cross-validation and calculate F1 scores for each model\n",
    "for name, model in models.items():\n",
    "    f1_scorer = make_scorer(f1_score, average='weighted')\n",
    "    f1_scores = cross_val_score(model, X_train_selected, y_train, cv=cv, scoring=f1_scorer)\n",
    "    mean_f1_score = f1_scores.mean()\n",
    "    print(f'{name} Mean F1 Score: {mean_f1_score:.4f}')\n"
   ]
  },
  {
   "cell_type": "markdown",
   "id": "3bcf0dd6",
   "metadata": {},
   "source": [
    "# TEST DATA processing"
   ]
  },
  {
   "cell_type": "code",
   "execution_count": 45,
   "id": "26ee1cfb",
   "metadata": {},
   "outputs": [
    {
     "name": "stdout",
     "output_type": "stream",
     "text": [
      "<class 'pandas.core.frame.DataFrame'>\n",
      "RangeIndex: 1507 entries, 0 to 1506\n",
      "Data columns (total 12 columns):\n",
      " #   Column                Non-Null Count  Dtype  \n",
      "---  ------                --------------  -----  \n",
      " 0   id                    1507 non-null   object \n",
      " 1   title                 1507 non-null   object \n",
      " 2   type                  1507 non-null   object \n",
      " 3   description           1499 non-null   object \n",
      " 4   release_year          1507 non-null   int64  \n",
      " 5   age_certification     520 non-null    object \n",
      " 6   runtime               1507 non-null   int64  \n",
      " 7   genres                1507 non-null   object \n",
      " 8   production_countries  1507 non-null   object \n",
      " 9   seasons               298 non-null    float64\n",
      " 10  imdb_votes            1507 non-null   int64  \n",
      " 11  streaming             1507 non-null   object \n",
      "dtypes: float64(1), int64(3), object(8)\n",
      "memory usage: 141.4+ KB\n"
     ]
    }
   ],
   "source": [
    "\n",
    "# Load the preprocessed test_titles.csv\n",
    "test_titles = pd.read_csv('test_titles.csv')\n",
    "\n",
    "test_titles.info()\n"
   ]
  },
  {
   "cell_type": "markdown",
   "id": "ae3aa44b",
   "metadata": {},
   "source": [
    "## Preprocess test_data"
   ]
  },
  {
   "cell_type": "code",
   "execution_count": 46,
   "id": "a55decdc",
   "metadata": {},
   "outputs": [],
   "source": [
    "# Fill missing values in 'description' column with an empty string\n",
    "test_titles['description'].fillna('', inplace=True)\n",
    "\n",
    "# Fill missing values in 'age_certification' column with a default value\n",
    "test_titles['age_certification'].fillna('Not Rated', inplace=True)\n",
    "\n",
    "# Fill missing values in 'seasons' column with 0 (assuming missing values mean the entry is not a TV show)\n",
    "test_titles['seasons'].fillna(0, inplace=True)\n"
   ]
  },
  {
   "cell_type": "code",
   "execution_count": 47,
   "id": "82ca310a",
   "metadata": {},
   "outputs": [],
   "source": [
    "from sklearn.preprocessing import MinMaxScaler\n",
    "# Step 2: Encoding Categorical Variables\n",
    "test_titles = pd.get_dummies(test_titles, columns=['type', 'age_certification', 'genres', 'production_countries', 'streaming'], drop_first=True)\n",
    "\n",
    "# Step 3: Separating Target and Features\n",
    "# If you don't have a target column, simply drop it to get the features (X_test)\n",
    "X_test = test_titles.drop(['id', 'title', 'description'], axis=1)\n",
    "\n",
    "# Step 4: Scaling Numerical Features\n",
    "scaler = MinMaxScaler()\n",
    "numerical_features = ['release_year', 'runtime', 'seasons', 'imdb_votes']\n",
    "X_test[numerical_features] = scaler.fit_transform(X_test[numerical_features])\n"
   ]
  },
  {
   "cell_type": "markdown",
   "id": "f4673978",
   "metadata": {},
   "source": [
    "# Model Evaluation"
   ]
  },
  {
   "cell_type": "code",
   "execution_count": 51,
   "id": "16aa3f6a",
   "metadata": {},
   "outputs": [],
   "source": [
    "# Assuming 'X_test_selected' is the preprocessed test feature matrix with multiple columns\n",
    "# And you want to keep only the columns 'imdb_votes', 'runtime', and 'release_year'\n",
    "\n",
    "# Select the desired columns from X_test_selected\n",
    "X_test_selected = X_test[['imdb_votes', 'runtime', 'release_year']]\n"
   ]
  },
  {
   "cell_type": "code",
   "execution_count": 59,
   "id": "f6569b7a",
   "metadata": {},
   "outputs": [
    {
     "name": "stderr",
     "output_type": "stream",
     "text": [
      "C:\\Users\\zilie\\anaconda3\\lib\\site-packages\\sklearn\\model_selection\\_split.py:676: UserWarning: The least populated class in y has only 3 members, which is less than n_splits=5.\n",
      "  warnings.warn(\n"
     ]
    },
    {
     "name": "stdout",
     "output_type": "stream",
     "text": [
      "Cross-Validation F1 Scores: [0.43066525 0.44543295 0.42125785 0.44085543 0.41696085]\n",
      "Mean Cross-Validation F1 Score: 0.4310344658591342\n"
     ]
    }
   ],
   "source": [
    "# Assuming 'X_train_selected' and 'y_train' are the preprocessed feature matrix and target vector.\n",
    "# Assuming 'X_test' is the preprocessed test feature matrix.\n",
    "\n",
    "# Create the Random Forest model with the best hyperparameters\n",
    "best_rf_model = RandomForestClassifier(\n",
    "    n_estimators=150,\n",
    "    max_depth=20,\n",
    "    min_samples_split=2,\n",
    "    min_samples_leaf=1\n",
    ")\n",
    "\n",
    "# Perform cross-validation on the entire training data to get an estimate of model performance\n",
    "cv_scores = cross_val_score(best_rf_model, X_train_selected, y_train, cv=5, scoring='f1_weighted')\n",
    "print(\"Cross-Validation F1 Scores:\", cv_scores)\n",
    "print(\"Mean Cross-Validation F1 Score:\", cv_scores.mean())\n",
    "\n",
    "# Train the model on the entire training data\n",
    "best_rf_model.fit(X_train_selected, y_train)\n",
    "\n",
    "# # Check and align columns in X_test with X_train_selected\n",
    "# X_test = X_test.reindex(columns=X_train_selected.columns, fill_value=0)\n",
    "\n",
    "# Make predictions on the test data\n",
    "y_pred_test = best_rf_model.predict(X_test_selected)\n",
    "\n",
    "# Save the predictions to a new CSV file\n",
    "test_titles['predicted_target'] = y_pred_test\n",
    "test_titles.to_csv('test_titles_predictions.csv', index=False)\n"
   ]
  },
  {
   "cell_type": "markdown",
   "id": "3a28bd01",
   "metadata": {},
   "source": [
    "# Save the predictions to a new CSV file (if desired):"
   ]
  },
  {
   "cell_type": "code",
   "execution_count": 63,
   "id": "8b436346",
   "metadata": {},
   "outputs": [],
   "source": [
    "\n",
    "# Generate predictions \n",
    "test_titles['predicted_target'] = y_pred_test\n",
    "\n",
    "# Convert predictions to dict format \n",
    "targets = test_titles['predicted_target'].to_dict()\n",
    "\n",
    "# Structure as needed\n",
    "targets = {'target': targets}\n",
    "\n",
    "# Save to JSON \n",
    "json_data = json.dumps(targets)\n",
    "\n",
    "with open('predictions.json', 'w') as f:\n",
    "    f.write(json_data)"
   ]
  },
  {
   "cell_type": "markdown",
   "id": "be75cb8f",
   "metadata": {},
   "source": [
    "# Something is wrong?!?!?"
   ]
  },
  {
   "cell_type": "code",
   "execution_count": 55,
   "id": "559a6763",
   "metadata": {},
   "outputs": [
    {
     "name": "stdout",
     "output_type": "stream",
     "text": [
      "6    1412\n",
      "5     943\n",
      "7     735\n",
      "4     337\n",
      "3     100\n",
      "2      33\n",
      "8      32\n",
      "1      14\n",
      "0       3\n",
      "Name: target, dtype: int64\n"
     ]
    }
   ],
   "source": [
    "# Assuming 'y_train' is the target vector of the training data\n",
    "class_counts = y_train.value_counts()\n",
    "print(class_counts)\n"
   ]
  },
  {
   "cell_type": "code",
   "execution_count": 56,
   "id": "e9ec8df9",
   "metadata": {},
   "outputs": [
    {
     "data": {
      "image/png": "[encoded data removed]",
      "text/plain": [
       "<Figure size 800x600 with 1 Axes>"
      ]
     },
     "metadata": {},
     "output_type": "display_data"
    },
    {
     "data": {
      "image/png": "[encoded data removed]",
      "text/plain": [
       "<Figure size 600x600 with 1 Axes>"
      ]
     },
     "metadata": {},
     "output_type": "display_data"
    }
   ],
   "source": [
    "import matplotlib.pyplot as plt\n",
    "\n",
    "# Plot a bar chart to visualize the class distribution\n",
    "plt.figure(figsize=(8, 6))\n",
    "class_counts.plot(kind='bar')\n",
    "plt.xlabel('Classes')\n",
    "plt.ylabel('Count')\n",
    "plt.title('Class Distribution')\n",
    "plt.show()\n",
    "\n",
    "# Alternatively, we can use a pie chart\n",
    "plt.figure(figsize=(6, 6))\n",
    "plt.pie(class_counts, labels=class_counts.index, autopct='%1.1f%%')\n",
    "plt.title('Class Distribution')\n",
    "plt.show()\n"
   ]
  },
  {
   "cell_type": "code",
   "execution_count": 57,
   "id": "bd2ad3f3",
   "metadata": {},
   "outputs": [
    {
     "name": "stdout",
     "output_type": "stream",
     "text": [
      "Class Imbalance Ratio: 470.6666666666667\n"
     ]
    }
   ],
   "source": [
    "# Calculate the class imbalance ratio\n",
    "imbalance_ratio = class_counts.max() / class_counts.min()\n",
    "print(\"Class Imbalance Ratio:\", imbalance_ratio)\n"
   ]
  },
  {
   "cell_type": "markdown",
   "id": "bf7c491b",
   "metadata": {},
   "source": [
    "# This Ratio is not normal. We need to proceed of checking the data."
   ]
  },
  {
   "cell_type": "code",
   "execution_count": null,
   "id": "8a8ac51c",
   "metadata": {},
   "outputs": [],
   "source": []
  }
 ],
 "metadata": {
  "kernelspec": {
   "display_name": "Python 3 (ipykernel)",
   "language": "python",
   "name": "python3"
  },
  "language_info": {
   "codemirror_mode": {
    "name": "ipython",
    "version": 3
   },
   "file_extension": ".py",
   "mimetype": "text/x-python",
   "name": "python",
   "nbconvert_exporter": "python",
   "pygments_lexer": "ipython3",
   "version": "3.9.13"
  }
 },
 "nbformat": 4,
 "nbformat_minor": 5
}
